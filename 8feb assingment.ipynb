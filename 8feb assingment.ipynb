{
 "cells": [
  {
   "cell_type": "code",
   "execution_count": null,
   "id": "9ba928db-83b6-4057-a7fc-786a993ff116",
   "metadata": {},
   "outputs": [],
   "source": [
    "Q1. What is Abstraction in OOps? Explain with an example."
   ]
  },
  {
   "cell_type": "code",
   "execution_count": null,
   "id": "6d03b22a-b206-4a5e-8db4-25d962de04b8",
   "metadata": {},
   "outputs": [],
   "source": [
    "abstraction refers to the act of representing essential details while hiding background details and explaination.\n",
    "it help in maintaining complexity ,security and reusability of code."
   ]
  },
  {
   "cell_type": "code",
   "execution_count": 5,
   "id": "9e40f9df-4b86-4731-8caf-1dc1a01a1485",
   "metadata": {},
   "outputs": [
    {
     "name": "stdout",
     "output_type": "stream",
     "text": [
      "Area: 20\n"
     ]
    }
   ],
   "source": [
    "class Shape:\n",
    "    def area(self):\n",
    "        pass\n",
    "\n",
    "class Rectangle(Shape):\n",
    "    def __init__(self, l,w):\n",
    "        self.len = l\n",
    "        self.wid = w\n",
    "    \n",
    "    def area(self):\n",
    "        return self.len * self.wid\n",
    "\n",
    "\n",
    "shapes = [Rectangle(5, 4)]\n",
    "for shape in shapes:\n",
    "    print(\"Area:\", shape.area())\n"
   ]
  },
  {
   "cell_type": "code",
   "execution_count": null,
   "id": "d29f6d52-59c3-4b01-a577-7c5e3caeacb2",
   "metadata": {},
   "outputs": [],
   "source": [
    "Q2. Differentiate between Abstraction and Encapsulation. Explain with an example."
   ]
  },
  {
   "cell_type": "code",
   "execution_count": null,
   "id": "7488b466-b9f2-4118-a84b-1bf1a2c6e6f5",
   "metadata": {},
   "outputs": [],
   "source": [
    "abstraction refers to the act of representing essential details while hiding background details and explaination.\n",
    "it help in maintaining complexity ,security and reusability of code.\n",
    "\n",
    "encapsulation refers to wrapping up of data and function in a single unit known as class.\n",
    "\n",
    "abstraction focuses on simplifying complex systems by highlighting essential features, \n",
    "while encapsulation ensures data hiding and bundling related functionalities together to manage complexity and maintain code integrity."
   ]
  },
  {
   "cell_type": "code",
   "execution_count": null,
   "id": "c83fd6ed-1d59-4a9c-8b30-8a5f8e68075c",
   "metadata": {},
   "outputs": [],
   "source": [
    "Q3. What is abc module in python? Why is it used?"
   ]
  },
  {
   "cell_type": "code",
   "execution_count": null,
   "id": "b3d97a34-5749-4c65-9b83-e3c84ebcddbc",
   "metadata": {},
   "outputs": [],
   "source": [
    "The abc module in Python stands for Abstract Base Classes.\n",
    "It provides a way to define abstract base classes in Python.\n",
    "Abstract base classes are classes that are designed to be subclassed and not instantiated themselves.\n",
    "They define a common interface for a set of subclasses.\n",
    "The abc module define methods that must be implemented by its subclasses.\n",
    "This helps in enforcing a particular API for a set of classes."
   ]
  },
  {
   "cell_type": "code",
   "execution_count": null,
   "id": "225a6a0d-4dfb-4f2d-b435-fd194e3a67ac",
   "metadata": {},
   "outputs": [],
   "source": [
    "from abc import ABC, abstractmethod\n",
    "\n",
    "class Shape(ABC):\n",
    "    @abstractmethod\n",
    "    def area(self):\n",
    "        pass\n",
    "\n",
    "class Circle(Shape):\n",
    "    def __init__(self, radius):\n",
    "        self.radius = radius\n",
    "\n",
    "    def area(self):\n",
    "        return 3.14 * self.radius * self.radius\n",
    "\n",
    "circle = Circle(5)\n",
    "print(circle.area())\n"
   ]
  },
  {
   "cell_type": "code",
   "execution_count": null,
   "id": "f232e779-4186-4435-95a3-5ffe6666503e",
   "metadata": {},
   "outputs": [],
   "source": [
    "Q4. How can we achieve data abstraction?"
   ]
  },
  {
   "cell_type": "code",
   "execution_count": null,
   "id": "5dd15dc7-5f0f-4413-a19e-aa97101570e7",
   "metadata": {},
   "outputs": [],
   "source": [
    "Achieving data abstraction involves hiding unnecessary details and exposing only essential information to users or other parts of the program.\n",
    "Identify the relevant data: Determine the essential information required for a specific task \n",
    "Create an abstract class: An abstract class is  a blueprint for a group of  methods. \n",
    "It contains abstract methods that must be implemented by concrete classes.\n",
    "Implement concrete classes: Create concrete classes that inherit from the abstract class or implement the interface. \n",
    "These classes provide the necessary implementation for the abstract methods.\n",
    "Encapsulate data and behavior: Hide the implementation details of the concrete classes and provide public methods or \n",
    "properties that allow access to the essential information.\n"
   ]
  },
  {
   "cell_type": "code",
   "execution_count": null,
   "id": "df699399-3b61-4b41-8cfb-723873db5862",
   "metadata": {},
   "outputs": [],
   "source": [
    "Can we create an instance of an abstract class? Explain your answer."
   ]
  },
  {
   "cell_type": "code",
   "execution_count": null,
   "id": "41bcc35e-7266-4eb7-839c-90556f9e75a0",
   "metadata": {},
   "outputs": [],
   "source": [
    "yes"
   ]
  },
  {
   "cell_type": "code",
   "execution_count": 6,
   "id": "af02bec9-ec0b-4274-9314-6393a8cfe7d9",
   "metadata": {},
   "outputs": [
    {
     "ename": "SyntaxError",
     "evalue": "expected ':' (3824881795.py, line 4)",
     "output_type": "error",
     "traceback": [
      "\u001b[0;36m  Cell \u001b[0;32mIn[6], line 4\u001b[0;36m\u001b[0m\n\u001b[0;31m    class rec(shapes)\u001b[0m\n\u001b[0m                     ^\u001b[0m\n\u001b[0;31mSyntaxError\u001b[0m\u001b[0;31m:\u001b[0m expected ':'\n"
     ]
    }
   ],
   "source": [
    "class shape:\n",
    "    def area(self):\n",
    "        pass\n",
    "class rec(shapes)\n",
    "    def __init__(self,length,breath):\n",
    "        self.length=length\n",
    "        self.breath=breath\n",
    "    def area(self):\n",
    "        return self.length,self.breath\n",
    "rec=rec(5,6)\n",
    "print(rec.area())"
   ]
  },
  {
   "cell_type": "code",
   "execution_count": null,
   "id": "4e7e8bfa-b477-4afe-8d9f-b1d8573e0fd5",
   "metadata": {},
   "outputs": [],
   "source": []
  }
 ],
 "metadata": {
  "kernelspec": {
   "display_name": "Python 3 (ipykernel)",
   "language": "python",
   "name": "python3"
  },
  "language_info": {
   "codemirror_mode": {
    "name": "ipython",
    "version": 3
   },
   "file_extension": ".py",
   "mimetype": "text/x-python",
   "name": "python",
   "nbconvert_exporter": "python",
   "pygments_lexer": "ipython3",
   "version": "3.10.8"
  }
 },
 "nbformat": 4,
 "nbformat_minor": 5
}
